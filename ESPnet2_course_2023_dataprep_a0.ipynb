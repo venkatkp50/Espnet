{
  "nbformat": 4,
  "nbformat_minor": 0,
  "metadata": {
    "colab": {
      "provenance": [],
      "authorship_tag": "ABX9TyPb8B5KYoz5BCTvd/vT7WkL",
      "include_colab_link": true
    },
    "kernelspec": {
      "name": "python3",
      "display_name": "Python 3"
    },
    "language_info": {
      "name": "python"
    }
  },
  "cells": [
    {
      "cell_type": "markdown",
      "metadata": {
        "id": "view-in-github",
        "colab_type": "text"
      },
      "source": [
        "<a href=\"https://colab.research.google.com/github/venkatkp50/Espnet/blob/main/ESPnet2_course_2023_dataprep_a0.ipynb\" target=\"_parent\"><img src=\"https://colab.research.google.com/assets/colab-badge.svg\" alt=\"Open In Colab\"/></a>"
      ]
    },
    {
      "cell_type": "code",
      "execution_count": 1,
      "metadata": {
        "colab": {
          "base_uri": "https://localhost:8080/"
        },
        "id": "VmmgDKNZTBa9",
        "outputId": "15485ad4-8e34-4548-f83f-428be83b022e"
      },
      "outputs": [
        {
          "output_type": "stream",
          "name": "stdout",
          "text": [
            "Cloning into 'espnet'...\n",
            "remote: Enumerating objects: 8171, done.\u001b[K\n",
            "remote: Counting objects: 100% (8171/8171), done.\u001b[K\n",
            "remote: Compressing objects: 100% (5806/5806), done.\u001b[K\n",
            "remote: Total 8171 (delta 2736), reused 4189 (delta 1466), pack-reused 0 (from 0)\u001b[K\n",
            "Receiving objects: 100% (8171/8171), 19.37 MiB | 7.59 MiB/s, done.\n",
            "Resolving deltas: 100% (2736/2736), done.\n",
            "Updating files: 100% (12429/12429), done.\n"
          ]
        }
      ],
      "source": [
        "!git clone --depth 5 https://github.com/espnet/espnet"
      ]
    },
    {
      "cell_type": "code",
      "source": [],
      "metadata": {
        "id": "yVH1DARpTL_N"
      },
      "execution_count": null,
      "outputs": []
    }
  ]
}